{
 "cells": [
  {
   "cell_type": "code",
   "execution_count": 4,
   "metadata": {},
   "outputs": [],
   "source": [
    "import os\n",
    "import json\n",
    "import pandas as pd"
   ]
  },
  {
   "cell_type": "code",
   "execution_count": 5,
   "metadata": {},
   "outputs": [],
   "source": [
    "# Function to parse a single JSON file\n",
    "def parse_json_file(file_path):\n",
    "    parsed_data = []\n",
    "    \n",
    "    # Load the JSON file\n",
    "    with open(file_path, 'r') as file:\n",
    "        data = json.load(file)\n",
    "        \n",
    "        # Iterate over each file entry in the JSON data\n",
    "        for file_path, file_info in data.get(\"Files\", {}).items():\n",
    "            # Extract the common details\n",
    "            path = file_info.get(\"Path\", \"\")\n",
    "            sha256 = file_info.get(\"SHA256\", \"\")\n",
    "            size = file_info.get(\"Size\", 0)\n",
    "            risk_score = file_info.get(\"RiskScore\", 0)\n",
    "            syscalls = file_info.get(\"Syscalls\", [])\n",
    "            pledges = file_info.get(\"Pledge\", [])\n",
    "            meta = file_info.get(\"Meta\", {})\n",
    "            \n",
    "            # Extract behaviors if available\n",
    "            behaviors = file_info.get(\"Behaviors\", [])\n",
    "            for behavior in behaviors:\n",
    "                behavior_data = {\n",
    "                    \"FilePath\": path,\n",
    "                    \"SHA256\": sha256,\n",
    "                    \"Size\": size,\n",
    "                    \"RiskScore\": risk_score,\n",
    "                    \"Syscalls\": syscalls,\n",
    "                    \"Pledges\": pledges,\n",
    "                    \"Meta\": meta,\n",
    "                    \"BehaviorDescription\": behavior.get(\"Description\", \"\"),\n",
    "                    \"MatchStrings\": behavior.get(\"MatchStrings\", []),\n",
    "                    \"BehaviorRiskScore\": behavior.get(\"RiskScore\", 0),\n",
    "                    \"RiskLevel\": behavior.get(\"RiskLevel\", \"\"),\n",
    "                    \"RuleURL\": behavior.get(\"RuleURL\", \"\"),\n",
    "                    \"ID\": behavior.get(\"ID\", \"\"),\n",
    "                    \"RuleName\": behavior.get(\"RuleName\", \"\"),\n",
    "                    \"ReferenceURL\": behavior.get(\"ReferenceURL\", \"\")\n",
    "                }\n",
    "                parsed_data.append(behavior_data)\n",
    "    \n",
    "    return parsed_data"
   ]
  },
  {
   "cell_type": "code",
   "execution_count": 8,
   "metadata": {},
   "outputs": [],
   "source": [
    "# Get the base folder (current directory or script location)\n",
    "base_folder = os.path.dirname(os.path.dirname(os.getcwd()))\n",
    "\n",
    "# Append 'malcontent-results' folder to the base path\n",
    "folder_path = os.path.join(base_folder, 'datasets/dataset6_over_time/go/0_controller-gen/malcontent-results')\n",
    "\n",
    "# Initialize an empty list to store all parsed data\n",
    "all_parsed_data = []\n",
    "\n",
    "# Iterate over each file in the folder and parse it\n",
    "for file_name in os.listdir(folder_path):\n",
    "    if file_name.endswith(\".json\"):\n",
    "        file_path = os.path.join(folder_path, file_name)\n",
    "        parsed_data = parse_json_file(file_path)\n",
    "        all_parsed_data.extend(parsed_data)\n",
    "\n",
    "# Convert the parsed data into a pandas DataFrame\n",
    "df = pd.DataFrame(all_parsed_data)"
   ]
  },
  {
   "cell_type": "code",
   "execution_count": 10,
   "metadata": {},
   "outputs": [
    {
     "name": "stdout",
     "output_type": "stream",
     "text": [
      "\n",
      "Stats for /work/apk-files/controller-gen-0.13.0-r0.apk ∴ /usr/bin/controller-gen:\n",
      "  - Number of behaviors: 66\n",
      "  - Risk Levels: {'LOW': 47, 'MEDIUM': 19}\n",
      "  - Average Risk Score: 1.29\n",
      "\n",
      "Stats for /work/apk-files/controller-gen-0.15.0-r0.apk ∴ /usr/bin/controller-gen:\n",
      "  - Number of behaviors: 65\n",
      "  - Risk Levels: {'LOW': 45, 'MEDIUM': 20}\n",
      "  - Average Risk Score: 1.31\n",
      "\n",
      "Stats for /work/apk-files/controller-gen-0.16.0-r0.apk ∴ /usr/bin/controller-gen:\n",
      "  - Number of behaviors: 65\n",
      "  - Risk Levels: {'LOW': 46, 'MEDIUM': 19}\n",
      "  - Average Risk Score: 1.29\n",
      "\n",
      "Stats for /work/apk-files/controller-gen-0.16.1-r0.apk ∴ /usr/bin/controller-gen:\n",
      "  - Number of behaviors: 65\n",
      "  - Risk Levels: {'LOW': 46, 'MEDIUM': 19}\n",
      "  - Average Risk Score: 1.29\n"
     ]
    }
   ],
   "source": [
    "# Group by FilePath to calculate statistics for each file\n",
    "grouped_df = df.groupby('FilePath')\n",
    "\n",
    "# Print statistics for each file path\n",
    "for file_path, group in grouped_df:\n",
    "    if \".spdx.json\" in file_path:\n",
    "        pass\n",
    "    else:\n",
    "        print(f\"\\nStats for {file_path}:\")\n",
    "        \n",
    "        # Number of behaviors associated with this file\n",
    "        behavior_count = group.shape[0]\n",
    "        print(f\"  - Number of behaviors: {behavior_count}\")\n",
    "        \n",
    "        # Risk Level count\n",
    "        risk_levels = group['RiskLevel'].value_counts().to_dict()\n",
    "        print(f\"  - Risk Levels: {risk_levels}\")\n",
    "        \n",
    "        # Average Risk Score of behaviors\n",
    "        avg_risk_score = group['BehaviorRiskScore'].mean()\n",
    "        print(f\"  - Average Risk Score: {avg_risk_score:.2f}\")"
   ]
  }
 ],
 "metadata": {
  "kernelspec": {
   "display_name": ".venv",
   "language": "python",
   "name": "python3"
  },
  "language_info": {
   "codemirror_mode": {
    "name": "ipython",
    "version": 3
   },
   "file_extension": ".py",
   "mimetype": "text/x-python",
   "name": "python",
   "nbconvert_exporter": "python",
   "pygments_lexer": "ipython3",
   "version": "3.10.12"
  }
 },
 "nbformat": 4,
 "nbformat_minor": 2
}
