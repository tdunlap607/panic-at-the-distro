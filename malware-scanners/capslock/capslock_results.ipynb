{
 "cells": [
  {
   "cell_type": "code",
   "execution_count": 4,
   "metadata": {},
   "outputs": [],
   "source": [
    "import os\n",
    "import glob\n",
    "import json\n",
    "import pandas as pd"
   ]
  },
  {
   "cell_type": "code",
   "execution_count": 5,
   "metadata": {},
   "outputs": [],
   "source": [
    "def parse_json_to_dataframe(json_data, file_name):\n",
    "    # List to store parsed data\n",
    "    parsed_data = []\n",
    "    \n",
    "    apk_name = file_name.split(\"/\")[-1].strip(\".json\")\n",
    "\n",
    "    # Iterate through each capability\n",
    "    for capability in json_data[\"capabilityInfo\"]:\n",
    "        package_name = capability.get(\"packageName\", \"\")\n",
    "        capability_type = capability.get(\"capabilityType\", \"\")\n",
    "        capability_name = capability.get(\"capability\", \"\")\n",
    "        dep_path = capability.get(\"depPath\", \"\")\n",
    "        package_dir = capability.get(\"packageDir\", \"\")\n",
    "        \n",
    "        # Iterate through path info\n",
    "        for path in capability.get(\"path\", []):\n",
    "            name = path.get(\"name\", \"\")\n",
    "            package = path.get(\"package\", \"\")\n",
    "            site_info = path.get(\"site\", {})\n",
    "            filename = site_info.get(\"filename\", \"\")\n",
    "            line = site_info.get(\"line\", \"\")\n",
    "            column = site_info.get(\"column\", \"\")\n",
    "            \n",
    "            # Add each record as a row in the list\n",
    "            parsed_data.append({\n",
    "                \"apk\": apk_name,\n",
    "                \"package_name\": package_name,\n",
    "                \"capability_name\": capability_name,\n",
    "                \"capability_type\": capability_type,\n",
    "                \"dep_path\": dep_path,\n",
    "                \"package_dir\": package_dir,\n",
    "                \"name\": name,\n",
    "                \"package\": package,\n",
    "                \"filename\": filename,\n",
    "                \"line\": line,\n",
    "                \"column\": column\n",
    "            })\n",
    "    \n",
    "    # Create a DataFrame from the parsed data\n",
    "    df = pd.DataFrame(parsed_data)\n",
    "    \n",
    "    return df"
   ]
  },
  {
   "cell_type": "code",
   "execution_count": null,
   "metadata": {},
   "outputs": [
    {
     "name": "stdout",
     "output_type": "stream",
     "text": [
      "./results/5_step_v0_27_2.json\n"
     ]
    }
   ],
   "source": [
    "directory_path = \"./results/\"\n",
    "\n",
    "# List to store DataFrames from each JSON file\n",
    "all_dataframes = []\n",
    "\n",
    "# Get a list of all JSON files in the directory\n",
    "json_files = glob.glob(os.path.join(directory_path, \"*.json\"))\n",
    "\n",
    "for json_file in json_files[:1]:\n",
    "    # Open and load the JSON file\n",
    "    with open(json_file, 'r') as file:\n",
    "        json_data = json.load(file)\n",
    "    print(json_file)\n",
    "    # Parse the JSON data and get the DataFrame\n",
    "    df = parse_json_to_dataframe(json_data, json_file)\n",
    "    \n",
    "    # Append the DataFrame to the list\n",
    "    all_dataframes.append(df)\n",
    "\n",
    "# Concatenate all DataFrames into one DataFrame\n",
    "combined_df = pd.concat(all_dataframes, ignore_index=True)\n",
    "\n",
    "print(\"done\")"
   ]
  }
 ],
 "metadata": {
  "kernelspec": {
   "display_name": ".venv",
   "language": "python",
   "name": "python3"
  },
  "language_info": {
   "codemirror_mode": {
    "name": "ipython",
    "version": 3
   },
   "file_extension": ".py",
   "mimetype": "text/x-python",
   "name": "python",
   "nbconvert_exporter": "python",
   "pygments_lexer": "ipython3",
   "version": "3.10.12"
  }
 },
 "nbformat": 4,
 "nbformat_minor": 2
}
