{
 "cells": [
  {
   "cell_type": "code",
   "execution_count": 29,
   "metadata": {},
   "outputs": [],
   "source": [
    "import os\n",
    "import glob\n",
    "import json\n",
    "import pandas as pd"
   ]
  },
  {
   "cell_type": "code",
   "execution_count": 30,
   "metadata": {},
   "outputs": [],
   "source": [
    "# Step 1: Open and load the JSON file\n",
    "with open('./dataset6_malware_functions.json', 'r') as file:\n",
    "    mal_data = json.load(file)"
   ]
  },
  {
   "cell_type": "code",
   "execution_count": 31,
   "metadata": {},
   "outputs": [],
   "source": [
    "def parse_json_to_dataframe(json_data, file_name):\n",
    "    # List to store parsed data\n",
    "    parsed_data = []\n",
    "    \n",
    "    apk_name = file_name.split(\"/\")[-1].strip(\".json\")\n",
    "\n",
    "    # Iterate through each capability\n",
    "    for capability in json_data[\"capabilityInfo\"]:\n",
    "        package_name = capability.get(\"packageName\", \"\")\n",
    "        capability_type = capability.get(\"capabilityType\", \"\")\n",
    "        capability_name = capability.get(\"capability\", \"\")\n",
    "        dep_path = capability.get(\"depPath\", \"\")\n",
    "        package_dir = capability.get(\"packageDir\", \"\")\n",
    "        \n",
    "        # Iterate through path info\n",
    "        for path in capability.get(\"path\", []):\n",
    "            name = path.get(\"name\", \"\")\n",
    "            package = path.get(\"package\", \"\")\n",
    "            site_info = path.get(\"site\", {})\n",
    "            filename = site_info.get(\"filename\", \"\")\n",
    "            line = site_info.get(\"line\", \"\")\n",
    "            column = site_info.get(\"column\", \"\")\n",
    "            \n",
    "            # Add each record as a row in the list\n",
    "            parsed_data.append({\n",
    "                \"apk\": apk_name,\n",
    "                \"package_name\": package_name,\n",
    "                \"capability_name\": capability_name,\n",
    "                \"capability_type\": capability_type,\n",
    "                \"dep_path\": dep_path,\n",
    "                \"package_dir\": package_dir,\n",
    "                \"name\": name,\n",
    "                \"package\": package,\n",
    "                \"filename\": filename,\n",
    "                \"line\": line,\n",
    "                \"column\": column\n",
    "            })\n",
    "    \n",
    "    # Create a DataFrame from the parsed data\n",
    "    df = pd.DataFrame(parsed_data)\n",
    "    \n",
    "    return df"
   ]
  },
  {
   "cell_type": "code",
   "execution_count": 32,
   "metadata": {},
   "outputs": [
    {
     "name": "stdout",
     "output_type": "stream",
     "text": [
      "./results/5_step_v0_27_2.json\n",
      "./results/5_step_v0_27_0-malware.json\n",
      "./results/2_logstash_v1_7_0.json\n",
      "./results/7_grafana-agent-operator_v0_41_0-malware.json\n",
      "./results/5_step_v0_26_1.json\n",
      "./results/8_terragrunt_v0_66_7-malware.json\n",
      "./results/2_logstash_v1_6_3-malware.json\n",
      "./results/3_prometheus-beat-exporter_0_3_1.json\n",
      "./results/6_swagger_v0_30_3.json\n",
      "./results/4_cosign_v2_2_3.json\n",
      "./results/4_cosign_v2_2_2.json\n",
      "./results/0_controller-gen_v0_13_0.json\n",
      "./results/2_logstash_v1_6_1.json\n",
      "./results/7_grafana-agent-operator_v0_40_4.json\n",
      "./results/0_controller-gen_v0_16_0.json\n",
      "./results/4_cosign_v2_3_0.json\n",
      "./results/8_terragrunt_v0_66_6.json\n",
      "./results/1_gobump_v0_7_5.json\n",
      "./results/8_terragrunt_v0_66_8.json\n",
      "./results/5_step_v0_27_1.json\n",
      "./results/6_swagger_v0_31_0.json\n",
      "./results/0_controller-gen_v0_16_1.json\n",
      "./results/3_prometheus-beat-exporter_0_3_0-malware.json\n",
      "Error: ./results/9_litestream_v0_3_13.json\n",
      "./results/8_terragrunt_v0_66_5.json\n",
      "./results/7_grafana-agent-operator_v0_40_5.json\n",
      "./results/9_litestream_v0_3_9.json\n",
      "./results/3_prometheus-beat-exporter_0_4_0.json\n",
      "Error: ./results/9_litestream_v0_3_10.json\n",
      "./results/7_grafana-agent-operator_v0_42_0.json\n",
      "./results/6_swagger_v0_30_2.json\n",
      "./results/1_gobump_v0_7_4.json\n",
      "./results/1_gobump_v0_7_7.json\n",
      "Error: ./results/0_controller-gen_v0_14_0.json\n",
      "./results/4_cosign_v2_4_0.json\n",
      "./results/1_gobump_v0_7_6-malware.json\n",
      "./results/2_logstash_v1_6_4.json\n",
      "./results/6_swagger_v0_30_4-malware.json\n",
      "./results/3_prometheus-beat-exporter_0_2_0.json\n",
      "./results/8_terragrunt_v0_66_9.json\n",
      "Error: ./results/3_prometheus-beat-exporter_v0_1_2.json\n",
      "./results/5_step_v0_26_2.json\n",
      "./results/2_logstash_v1_6_2.json\n",
      "Error: ./results/9_litestream_v0_3_12.json\n",
      "./results/6_swagger_v0_30_5.json\n",
      "Error: ./results/9_litestream_v0_3_11-malware.json\n",
      "./results/0_controller-gen_v0_15_0-malware.json\n",
      "./results/1_gobump_v0_8_0.json\n",
      "./results/4_cosign_v2_2_4-malware.json\n",
      "./results/7_grafana-agent-operator_v0_41_1.json\n",
      "done\n"
     ]
    }
   ],
   "source": [
    "directory_path = \"./results/\"\n",
    "\n",
    "# List to store DataFrames from each JSON file\n",
    "all_dataframes = []\n",
    "\n",
    "# Get a list of all JSON files in the directory\n",
    "json_files = glob.glob(os.path.join(directory_path, \"*.json\"))\n",
    "\n",
    "for json_file in json_files:\n",
    "    # if '6_swagger' in json_file:\n",
    "    # Open and load the JSON file\n",
    "    try:\n",
    "        with open(json_file, 'r') as file:\n",
    "            json_data = json.load(file)\n",
    "        print(json_file)\n",
    "        # Parse the JSON data and get the DataFrame\n",
    "        df = parse_json_to_dataframe(json_data, json_file)\n",
    "        \n",
    "        # Append the DataFrame to the list\n",
    "        all_dataframes.append(df)\n",
    "    except:\n",
    "        print(f\"Error: {json_file}\")\n",
    "\n",
    "# Concatenate all DataFrames into one DataFrame\n",
    "combined_df = pd.concat(all_dataframes, ignore_index=True)\n",
    "\n",
    "print(\"done\")"
   ]
  },
  {
   "cell_type": "markdown",
   "metadata": {},
   "source": [
    "### Check if malware function is in the capslock data"
   ]
  },
  {
   "cell_type": "code",
   "execution_count": 33,
   "metadata": {},
   "outputs": [],
   "source": [
    "def malware_lookup(malware_info, dep_path, apk):\n",
    "\n",
    "    # we can match on the index for the malware data\n",
    "    malware_apk = malware_info[int(apk.split('_')[0])]\n",
    "\n",
    "    mal_detected = False\n",
    "\n",
    "    for mal in malware_apk['funcs']:\n",
    "        if mal in dep_path:\n",
    "            mal_detected = True\n",
    "    \n",
    "    return mal_detected"
   ]
  },
  {
   "cell_type": "code",
   "execution_count": 36,
   "metadata": {},
   "outputs": [
    {
     "name": "stdout",
     "output_type": "stream",
     "text": [
      "Malware detected: 78\n",
      "Malware versions: 6\n",
      "wait\n"
     ]
    }
   ],
   "source": [
    "# mal_ver = combined_df[combined_df['apk']==\"6_swagger_v0_30_4-malware\"]\n",
    "\n",
    "combined_df[\"malware_detect\"] = combined_df.apply(\n",
    "    lambda x: malware_lookup(mal_data, x['dep_path'], x['apk']),\n",
    "    axis=1\n",
    ")\n",
    "\n",
    "print(f\"Malware detected: {len(combined_df[combined_df['malware_detect']==True])}\")\n",
    "print(f\"Malware versions: {combined_df[combined_df['malware_detect']==True]['apk'].nunique()}\")\n",
    "print(\"wait\")"
   ]
  },
  {
   "cell_type": "code",
   "execution_count": 9,
   "metadata": {},
   "outputs": [
    {
     "name": "stdout",
     "output_type": "stream",
     "text": [
      "95\n",
      "97\n",
      "3\n",
      "Project: 1_app\n",
      "Functions: test, test2\n",
      "Project: 2_app\n",
      "Functions: test3, test4\n"
     ]
    },
    {
     "ename": "KeyboardInterrupt",
     "evalue": "",
     "output_type": "error",
     "traceback": [
      "\u001b[0;31m---------------------------------------------------------------------------\u001b[0m",
      "\u001b[0;31mKeyboardInterrupt\u001b[0m                         Traceback (most recent call last)",
      "Cell \u001b[0;32mIn[9], line 3\u001b[0m\n\u001b[1;32m      1\u001b[0m combined_df\u001b[38;5;241m.\u001b[39mcapability_name\u001b[38;5;241m.\u001b[39mnunique()\n\u001b[0;32m----> 3\u001b[0m a \u001b[38;5;241m=\u001b[39m \u001b[43mcombined_df\u001b[49m[combined_df[\u001b[38;5;124m'\u001b[39m\u001b[38;5;124mapk\u001b[39m\u001b[38;5;124m'\u001b[39m]\u001b[38;5;241m==\u001b[39m\u001b[38;5;124m\"\u001b[39m\u001b[38;5;124m6_swagger_v0_30_3\u001b[39m\u001b[38;5;124m\"\u001b[39m]\n\u001b[1;32m      4\u001b[0m b \u001b[38;5;241m=\u001b[39m combined_df[combined_df[\u001b[38;5;124m'\u001b[39m\u001b[38;5;124mapk\u001b[39m\u001b[38;5;124m'\u001b[39m]\u001b[38;5;241m==\u001b[39m\u001b[38;5;124m\"\u001b[39m\u001b[38;5;124m6_swagger_v0_30_4-malware\u001b[39m\u001b[38;5;124m\"\u001b[39m]\n\u001b[1;32m      6\u001b[0m \u001b[38;5;28mprint\u001b[39m(\u001b[38;5;28mlen\u001b[39m(a))\n",
      "Cell \u001b[0;32mIn[9], line 3\u001b[0m\n\u001b[1;32m      1\u001b[0m combined_df\u001b[38;5;241m.\u001b[39mcapability_name\u001b[38;5;241m.\u001b[39mnunique()\n\u001b[0;32m----> 3\u001b[0m a \u001b[38;5;241m=\u001b[39m \u001b[43mcombined_df\u001b[49m[combined_df[\u001b[38;5;124m'\u001b[39m\u001b[38;5;124mapk\u001b[39m\u001b[38;5;124m'\u001b[39m]\u001b[38;5;241m==\u001b[39m\u001b[38;5;124m\"\u001b[39m\u001b[38;5;124m6_swagger_v0_30_3\u001b[39m\u001b[38;5;124m\"\u001b[39m]\n\u001b[1;32m      4\u001b[0m b \u001b[38;5;241m=\u001b[39m combined_df[combined_df[\u001b[38;5;124m'\u001b[39m\u001b[38;5;124mapk\u001b[39m\u001b[38;5;124m'\u001b[39m]\u001b[38;5;241m==\u001b[39m\u001b[38;5;124m\"\u001b[39m\u001b[38;5;124m6_swagger_v0_30_4-malware\u001b[39m\u001b[38;5;124m\"\u001b[39m]\n\u001b[1;32m      6\u001b[0m \u001b[38;5;28mprint\u001b[39m(\u001b[38;5;28mlen\u001b[39m(a))\n",
      "File \u001b[0;32m_pydevd_bundle\\\\pydevd_cython.pyx:1698\u001b[0m, in \u001b[0;36m_pydevd_bundle.pydevd_cython.SafeCallWrapper.__call__\u001b[0;34m()\u001b[0m\n",
      "File \u001b[0;32m_pydevd_bundle\\\\pydevd_cython.pyx:636\u001b[0m, in \u001b[0;36m_pydevd_bundle.pydevd_cython.PyDBFrame.trace_dispatch\u001b[0;34m()\u001b[0m\n",
      "File \u001b[0;32m_pydevd_bundle\\\\pydevd_cython.pyx:1113\u001b[0m, in \u001b[0;36m_pydevd_bundle.pydevd_cython.PyDBFrame.trace_dispatch\u001b[0;34m()\u001b[0m\n",
      "File \u001b[0;32m_pydevd_bundle\\\\pydevd_cython.pyx:1091\u001b[0m, in \u001b[0;36m_pydevd_bundle.pydevd_cython.PyDBFrame.trace_dispatch\u001b[0;34m()\u001b[0m\n",
      "File \u001b[0;32m_pydevd_bundle\\\\pydevd_cython.pyx:496\u001b[0m, in \u001b[0;36m_pydevd_bundle.pydevd_cython.PyDBFrame.do_wait_suspend\u001b[0;34m()\u001b[0m\n",
      "File \u001b[0;32m~/GitHub/panic-at-the-distro/.venv/lib/python3.10/site-packages/debugpy/_vendored/pydevd/pydevd.py:2197\u001b[0m, in \u001b[0;36mPyDB.do_wait_suspend\u001b[0;34m(self, thread, frame, event, arg, exception_type)\u001b[0m\n\u001b[1;32m   2194\u001b[0m             from_this_thread\u001b[38;5;241m.\u001b[39mappend(frame_custom_thread_id)\n\u001b[1;32m   2196\u001b[0m     \u001b[38;5;28;01mwith\u001b[39;00m \u001b[38;5;28mself\u001b[39m\u001b[38;5;241m.\u001b[39m_threads_suspended_single_notification\u001b[38;5;241m.\u001b[39mnotify_thread_suspended(thread_id, thread, stop_reason):\n\u001b[0;32m-> 2197\u001b[0m         keep_suspended \u001b[38;5;241m=\u001b[39m \u001b[38;5;28;43mself\u001b[39;49m\u001b[38;5;241;43m.\u001b[39;49m\u001b[43m_do_wait_suspend\u001b[49m\u001b[43m(\u001b[49m\u001b[43mthread\u001b[49m\u001b[43m,\u001b[49m\u001b[43m \u001b[49m\u001b[43mframe\u001b[49m\u001b[43m,\u001b[49m\u001b[43m \u001b[49m\u001b[43mevent\u001b[49m\u001b[43m,\u001b[49m\u001b[43m \u001b[49m\u001b[43marg\u001b[49m\u001b[43m,\u001b[49m\u001b[43m \u001b[49m\u001b[43mtrace_suspend_type\u001b[49m\u001b[43m,\u001b[49m\u001b[43m \u001b[49m\u001b[43mfrom_this_thread\u001b[49m\u001b[43m,\u001b[49m\u001b[43m \u001b[49m\u001b[43mframes_tracker\u001b[49m\u001b[43m)\u001b[49m\n\u001b[1;32m   2199\u001b[0m frames_list \u001b[38;5;241m=\u001b[39m \u001b[38;5;28;01mNone\u001b[39;00m\n\u001b[1;32m   2201\u001b[0m \u001b[38;5;28;01mif\u001b[39;00m keep_suspended:\n\u001b[1;32m   2202\u001b[0m     \u001b[38;5;66;03m# This means that we should pause again after a set next statement.\u001b[39;00m\n",
      "File \u001b[0;32m~/GitHub/panic-at-the-distro/.venv/lib/python3.10/site-packages/debugpy/_vendored/pydevd/pydevd.py:2266\u001b[0m, in \u001b[0;36mPyDB._do_wait_suspend\u001b[0;34m(self, thread, frame, event, arg, trace_suspend_type, from_this_thread, frames_tracker)\u001b[0m\n\u001b[1;32m   2263\u001b[0m                 queue\u001b[38;5;241m.\u001b[39mput(internal_cmd)\n\u001b[1;32m   2264\u001b[0m                 wait_timeout \u001b[38;5;241m=\u001b[39m TIMEOUT_FAST\n\u001b[0;32m-> 2266\u001b[0m         \u001b[43mnotify_event\u001b[49m\u001b[38;5;241;43m.\u001b[39;49m\u001b[43mwait\u001b[49m\u001b[43m(\u001b[49m\u001b[43mwait_timeout\u001b[49m\u001b[43m)\u001b[49m\n\u001b[1;32m   2267\u001b[0m         notify_event\u001b[38;5;241m.\u001b[39mclear()\n\u001b[1;32m   2269\u001b[0m \u001b[38;5;28;01mfinally\u001b[39;00m:\n",
      "File \u001b[0;32m/usr/lib/python3.10/threading.py:607\u001b[0m, in \u001b[0;36mEvent.wait\u001b[0;34m(self, timeout)\u001b[0m\n\u001b[1;32m    605\u001b[0m signaled \u001b[38;5;241m=\u001b[39m \u001b[38;5;28mself\u001b[39m\u001b[38;5;241m.\u001b[39m_flag\n\u001b[1;32m    606\u001b[0m \u001b[38;5;28;01mif\u001b[39;00m \u001b[38;5;129;01mnot\u001b[39;00m signaled:\n\u001b[0;32m--> 607\u001b[0m     signaled \u001b[38;5;241m=\u001b[39m \u001b[38;5;28;43mself\u001b[39;49m\u001b[38;5;241;43m.\u001b[39;49m\u001b[43m_cond\u001b[49m\u001b[38;5;241;43m.\u001b[39;49m\u001b[43mwait\u001b[49m\u001b[43m(\u001b[49m\u001b[43mtimeout\u001b[49m\u001b[43m)\u001b[49m\n\u001b[1;32m    608\u001b[0m \u001b[38;5;28;01mreturn\u001b[39;00m signaled\n",
      "File \u001b[0;32m/usr/lib/python3.10/threading.py:324\u001b[0m, in \u001b[0;36mCondition.wait\u001b[0;34m(self, timeout)\u001b[0m\n\u001b[1;32m    322\u001b[0m \u001b[38;5;28;01melse\u001b[39;00m:\n\u001b[1;32m    323\u001b[0m     \u001b[38;5;28;01mif\u001b[39;00m timeout \u001b[38;5;241m>\u001b[39m \u001b[38;5;241m0\u001b[39m:\n\u001b[0;32m--> 324\u001b[0m         gotit \u001b[38;5;241m=\u001b[39m \u001b[43mwaiter\u001b[49m\u001b[38;5;241;43m.\u001b[39;49m\u001b[43macquire\u001b[49m\u001b[43m(\u001b[49m\u001b[38;5;28;43;01mTrue\u001b[39;49;00m\u001b[43m,\u001b[49m\u001b[43m \u001b[49m\u001b[43mtimeout\u001b[49m\u001b[43m)\u001b[49m\n\u001b[1;32m    325\u001b[0m     \u001b[38;5;28;01melse\u001b[39;00m:\n\u001b[1;32m    326\u001b[0m         gotit \u001b[38;5;241m=\u001b[39m waiter\u001b[38;5;241m.\u001b[39macquire(\u001b[38;5;28;01mFalse\u001b[39;00m)\n",
      "\u001b[0;31mKeyboardInterrupt\u001b[0m: "
     ]
    }
   ],
   "source": [
    "combined_df.capability_name.nunique()\n",
    "\n",
    "a = combined_df[combined_df['apk']==\"6_swagger_v0_30_3\"]\n",
    "b = combined_df[combined_df['apk']==\"6_swagger_v0_30_4-malware\"]\n",
    "\n",
    "print(len(a))\n",
    "print(len(b))\n",
    "\n",
    "unique_columns = ['dep_path']\n",
    "\n",
    "a_clean = a[unique_columns].drop_duplicates()\n",
    "b_clean = b[unique_columns].drop_duplicates()\n",
    "\n",
    "# Find rows in DataFrame b that do not exist in DataFrame a based on the unique columns\n",
    "diff_rows = b_clean.merge(a_clean, \n",
    "                    on=unique_columns, \n",
    "                    how='left', \n",
    "                    indicator=True).loc[lambda x: x['_merge'] == 'left_only']\n",
    "\n",
    "# Drop the '_merge' column since it is not needed in the final output\n",
    "diff_rows = diff_rows.drop(columns=['_merge'])\n",
    "\n",
    "print(len(diff_rows))\n",
    "\n",
    "\n",
    "print(\"wait\")"
   ]
  }
 ],
 "metadata": {
  "kernelspec": {
   "display_name": ".venv",
   "language": "python",
   "name": "python3"
  },
  "language_info": {
   "codemirror_mode": {
    "name": "ipython",
    "version": 3
   },
   "file_extension": ".py",
   "mimetype": "text/x-python",
   "name": "python",
   "nbconvert_exporter": "python",
   "pygments_lexer": "ipython3",
   "version": "3.10.12"
  }
 },
 "nbformat": 4,
 "nbformat_minor": 2
}
